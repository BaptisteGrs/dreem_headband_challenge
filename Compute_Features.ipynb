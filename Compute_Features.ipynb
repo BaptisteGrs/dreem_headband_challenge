{
 "cells": [
  {
   "cell_type": "markdown",
   "metadata": {},
   "source": [
    "#### Dreem Challenge"
   ]
  },
  {
   "cell_type": "markdown",
   "metadata": {},
   "source": [
    "# Data import and features computation"
   ]
  },
  {
   "cell_type": "code",
   "execution_count": 1,
   "metadata": {},
   "outputs": [
    {
     "name": "stdout",
     "output_type": "stream",
     "text": [
      "Setup environment... done!\n"
     ]
    }
   ],
   "source": [
    "%run tool_factory\n",
    "setup_environment()\n",
    "\n",
    "from imports import *\n",
    "from features import *"
   ]
  },
  {
   "cell_type": "markdown",
   "metadata": {},
   "source": [
    "## Importing the raw data"
   ]
  },
  {
   "cell_type": "code",
   "execution_count": 12,
   "metadata": {},
   "outputs": [],
   "source": [
    "train_set = h5py.File('dreem-sleep-stages-2020/X_train.h5', 'r')\n",
    "train_labels = pd.read_csv('dreem-sleep-stages-2020/y_train.csv')\n",
    "test_set = h5py.File('dreem-sleep-stages-2020/X_test.h5', 'r')\n",
    "\n",
    "keys = list(train_set.keys())\n",
    "\n",
    "dbs = {key : np.array(train_set.get(key)) for key in keys}\n",
    "dbs_test = {key : np.array(test_set.get(key)) for key in keys}\n",
    "#x_train = pd.DataFrame(dbs['index'])"
   ]
  },
  {
   "cell_type": "code",
   "execution_count": 13,
   "metadata": {},
   "outputs": [],
   "source": [
    "eegs = ['eeg_{}'.format(i) for i in range(1,8)]\n",
    "biomarkers = eegs + ['pulse', 'x', 'y', 'z']"
   ]
  },
  {
   "cell_type": "markdown",
   "metadata": {},
   "source": [
    "## First look at the data"
   ]
  },
  {
   "cell_type": "markdown",
   "metadata": {},
   "source": [
    "There are no NaN values in the dataset. It might be the case in the test set, so we will also have to check that when we make predictions."
   ]
  },
  {
   "cell_type": "markdown",
   "metadata": {},
   "source": [
    "The output is a label between 0 and 4\n",
    "\n",
    "- 0 Wake\n",
    "- 1 NREM1 Sleep (light sleep 1)\n",
    "- 2 NREM2 Sleep (light sleep 2)\n",
    "- 3 NREM3 sleep (deep sleep)\n",
    "- 4 REM sleep (paradoxical sleep)"
   ]
  },
  {
   "cell_type": "code",
   "execution_count": 14,
   "metadata": {},
   "outputs": [
    {
     "data": {
      "image/png": "[encoded data removed]",
      "text/plain": [
       "<Figure size 1440x288 with 1 Axes>"
      ]
     },
     "metadata": {
      "needs_background": "light"
     },
     "output_type": "display_data"
    }
   ],
   "source": [
    "plot_categorical_distribution(train_labels, col='sleep_stage', n_x=5, rot=0)"
   ]
  },
  {
   "cell_type": "markdown",
   "metadata": {},
   "source": [
    "The dataset is imbalanced. There are far more instances of light sleep 2 than light sleep 1 or wake."
   ]
  },
  {
   "cell_type": "markdown",
   "metadata": {},
   "source": [
    "It would also be interesting to take into account the variability between patients to make sure the model is only learning general behaviors and not patient specific ones. "
   ]
  },
  {
   "cell_type": "markdown",
   "metadata": {},
   "source": [
    "## Features extraction "
   ]
  },
  {
   "cell_type": "code",
   "execution_count": 15,
   "metadata": {},
   "outputs": [],
   "source": [
    "def compute_features(database, biomarkers):\n",
    "    \"\"\"\n",
    "    \"\"\"\n",
    "    \n",
    "    val = []\n",
    "    nme = []\n",
    "    eegs = ['eeg_{}'.format(i) for i in range(1,8)]\n",
    "    \n",
    "    for marker in biomarkers:\n",
    "        # basic features\n",
    "        res, names = basic_signal_features(database[marker], signal_name=marker)\n",
    "        \n",
    "        # chaos features\n",
    "        chaos_res, chaos_names = chaos_features(database[marker], signal_name=marker)\n",
    "        \n",
    "        # frequency_features\n",
    "        eeg_sig = marker in eegs\n",
    "        freq_res, freq_names = frequency_features(database[marker], signal_name=marker, eeg_sig=eeg_sig)\n",
    "        \n",
    "        res += chaos_res\n",
    "        res += freq_res\n",
    "        names += chaos_names\n",
    "        names += freq_names\n",
    "        \n",
    "        val += res\n",
    "        nme += names\n",
    "           \n",
    "    dist_df = euclidean_distance_eeg(database, eegs)\n",
    "    feature_df = pd.DataFrame(np.vstack(val).T, columns=nme)\n",
    "    \n",
    "    return pd.concat([feature_df, dist_df], axis=1)"
   ]
  },
  {
   "cell_type": "code",
   "execution_count": 16,
   "metadata": {},
   "outputs": [
    {
     "name": "stdout",
     "output_type": "stream",
     "text": [
      "Sampling frequency is 50 Hz\n",
      "Sampling frequency is 50 Hz\n",
      "Sampling frequency is 50 Hz\n",
      "Sampling frequency is 50 Hz\n",
      "Sampling frequency is 50 Hz\n",
      "Sampling frequency is 50 Hz\n",
      "Sampling frequency is 50 Hz\n",
      "Sampling frequency is 10 Hz\n",
      "Sampling frequency is 10 Hz\n",
      "Sampling frequency is 10 Hz\n",
      "Sampling frequency is 10 Hz\n",
      "Sampling frequency is 50 Hz\n",
      "Sampling frequency is 50 Hz\n",
      "Sampling frequency is 50 Hz\n",
      "Sampling frequency is 50 Hz\n",
      "Sampling frequency is 50 Hz\n",
      "Sampling frequency is 50 Hz\n",
      "Sampling frequency is 50 Hz\n",
      "Sampling frequency is 10 Hz\n",
      "Sampling frequency is 10 Hz\n",
      "Sampling frequency is 10 Hz\n",
      "Sampling frequency is 10 Hz\n"
     ]
    }
   ],
   "source": [
    "data_train = compute_features(dbs, biomarkers)\n",
    "data_test = compute_features(dbs_test, biomarkers=biomarkers)"
   ]
  },
  {
   "cell_type": "code",
   "execution_count": 18,
   "metadata": {},
   "outputs": [
    {
     "name": "stdout",
     "output_type": "stream",
     "text": [
      "False\n",
      "False\n"
     ]
    }
   ],
   "source": [
    "print(data_train.isnull().values.any())\n",
    "print(data_test.isnull().values.any())"
   ]
  },
  {
   "cell_type": "code",
   "execution_count": null,
   "metadata": {},
   "outputs": [],
   "source": [
    "data_train.to_csv('', header=True, index=False)\n",
    "data_test.to_csv('', header=True, index=False)"
   ]
  }
 ],
 "metadata": {
  "kernelspec": {
   "display_name": "Python (general)",
   "language": "python",
   "name": "general"
  },
  "language_info": {
   "codemirror_mode": {
    "name": "ipython",
    "version": 3
   },
   "file_extension": ".py",
   "mimetype": "text/x-python",
   "name": "python",
   "nbconvert_exporter": "python",
   "pygments_lexer": "ipython3",
   "version": "3.6.8"
  }
 },
 "nbformat": 4,
 "nbformat_minor": 2
}
